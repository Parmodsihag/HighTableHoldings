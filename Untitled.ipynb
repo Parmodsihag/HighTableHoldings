{
 "cells": [
  {
   "cell_type": "code",
   "execution_count": null,
   "id": "a2f3a3a5",
   "metadata": {},
   "outputs": [],
   "source": [
    "import pandas as pd\n"
   ]
  },
  {
   "cell_type": "code",
   "execution_count": null,
   "id": "7dd38401",
   "metadata": {},
   "outputs": [],
   "source": [
    "import matplotlib.pyplot as plt"
   ]
  },
  {
   "cell_type": "code",
   "execution_count": null,
   "id": "41386030",
   "metadata": {},
   "outputs": [],
   "source": [
    "import numpy as np"
   ]
  },
  {
   "cell_type": "code",
   "execution_count": null,
   "id": "0726df66",
   "metadata": {},
   "outputs": [],
   "source": [
    "df = pd.read_csv('mydata.csv')"
   ]
  },
  {
   "cell_type": "code",
   "execution_count": null,
   "id": "a0af0e78",
   "metadata": {},
   "outputs": [],
   "source": [
    "df1 = df.loc[df['Amount'] >=0]\n",
    "df2 = df.loc[df['Amount'] <0]\n"
   ]
  },
  {
   "cell_type": "code",
   "execution_count": null,
   "id": "4198e606",
   "metadata": {},
   "outputs": [],
   "source": [
    "df1 = df1.loc[df['Amount'] < ]"
   ]
  },
  {
   "cell_type": "code",
   "execution_count": null,
   "id": "deae44b8",
   "metadata": {
    "scrolled": false
   },
   "outputs": [],
   "source": [
    "\n",
    "bin_edges =  [0, 100, 500, 1000, 5000, 10000, 20000, 30000, 50000, 100000, 200000, 300000]\n",
    "# bin_edges = [0, 100, 500, 1000, 5000, 10000, max]\n",
    "\n",
    "plt.hist(df1['Amount'], bins='auto')\n",
    "# plt.xscale('log')\n",
    "plt.show()"
   ]
  },
  {
   "cell_type": "code",
   "execution_count": null,
   "id": "aec39457",
   "metadata": {},
   "outputs": [],
   "source": [
    "def custom_scale(x):\n",
    "    if isinstance(x, np.ndarray):\n",
    "        return np.where(x <= 0.7, x * (50000 / 0.7), (x - 0.7) * (500000 - 50000) / (1 - 0.7) + 50000)\n",
    "    else:\n",
    "        if x <= 0.7:\n",
    "            return x * (50000 / 0.7)\n",
    "        else:\n",
    "            return (x - 0.7) * (500000 - 50000) / (1 - 0.7) + 50000\n",
    "\n",
    "\n",
    "def inverse_scale(x):\n",
    "    if isinstance(x, np.ndarray):\n",
    "        return np.where(x <= 50000, x / (50000 / 0.7), (x - 50000) / ((500000 - 50000) / (1 - 0.7)) + 0.7)\n",
    "    else:\n",
    "        if x <= 50000:\n",
    "            return x / (50000 / 0.7)\n",
    "        else:\n",
    "            return (x - 50000) / ((500000 - 50000) / (1 - 0.7)) + 0.7\n",
    "\n",
    "    \n",
    "plt.scatter(df1['Amount'], df1['Days'])\n",
    "# plt.xscale('function', functions=(custom_scale,inverse_scale ))\n",
    "# plt.xscale('log')\n",
    "plt.show()"
   ]
  },
  {
   "cell_type": "code",
   "execution_count": null,
   "id": "7ba072ff",
   "metadata": {},
   "outputs": [],
   "source": [
    "plt.hexbin(df1['Amount'], df1['Days'], gridsize=20, cmap='YlOrRd')\n",
    "plt.xlabel('X')\n",
    "plt.ylabel('Y')\n",
    "plt.title('Hexbin Plot')\n",
    "plt.colorbar(label='Density')\n",
    "plt.show()"
   ]
  },
  {
   "cell_type": "code",
   "execution_count": null,
   "id": "b056f405",
   "metadata": {},
   "outputs": [],
   "source": [
    "df"
   ]
  },
  {
   "cell_type": "code",
   "execution_count": null,
   "id": "e785f556",
   "metadata": {},
   "outputs": [],
   "source": [
    "dfs1 = df1.sort_values(by='Days', ascending=0)"
   ]
  },
  {
   "attachments": {},
   "cell_type": "markdown",
   "id": "4d67d70c",
   "metadata": {},
   "source": [
    "dfs1"
   ]
  },
  {
   "cell_type": "code",
   "execution_count": null,
   "id": "ad6ef373",
   "metadata": {},
   "outputs": [],
   "source": [
    "dfs1.head(10)"
   ]
  },
  {
   "cell_type": "code",
   "execution_count": null,
   "id": "eb8bdf02",
   "metadata": {},
   "outputs": [],
   "source": []
  }
 ],
 "metadata": {
  "kernelspec": {
   "display_name": "Python 3 (ipykernel)",
   "language": "python",
   "name": "python3"
  },
  "language_info": {
   "codemirror_mode": {
    "name": "ipython",
    "version": 3
   },
   "file_extension": ".py",
   "mimetype": "text/x-python",
   "name": "python",
   "nbconvert_exporter": "python",
   "pygments_lexer": "ipython3",
   "version": "3.10.4"
  }
 },
 "nbformat": 4,
 "nbformat_minor": 5
}
